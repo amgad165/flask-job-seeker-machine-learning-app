{
 "cells": [
  {
   "cell_type": "code",
   "execution_count": 11,
   "id": "b95425e9",
   "metadata": {},
   "outputs": [],
   "source": [
    "# Importing the required libraries\n",
    "import pandas as pd\n",
    "import numpy as np\n",
    "import re\n",
    "import os \n",
    "from collections import Counter\n",
    "\n",
    "import pickle\n",
    "from zeugma.embeddings import EmbeddingTransformer\n",
    "from sklearn.feature_extraction.text import TfidfVectorizer\n",
    "from sklearn.model_selection import train_test_split\n",
    "from sklearn.model_selection import cross_val_score\n",
    "from sklearn import preprocessing\n",
    "from sklearn.metrics import classification_report\n",
    "from sklearn.naive_bayes import GaussianNB\n",
    "from sklearn.linear_model import LogisticRegression\n",
    "from sklearn.feature_extraction.text import TfidfTransformer\n"
   ]
  },
  {
   "cell_type": "markdown",
   "id": "bf0a205f",
   "metadata": {},
   "source": [
    "### Load Model"
   ]
  },
  {
   "cell_type": "code",
   "execution_count": 9,
   "id": "479fdd00",
   "metadata": {},
   "outputs": [],
   "source": [
    "lr_loaded = pickle.load(open('lr_model.sav', 'rb'))                 \n"
   ]
  },
  {
   "cell_type": "markdown",
   "id": "854af1cb",
   "metadata": {},
   "source": [
    "### load TfidfTransformer"
   ]
  },
  {
   "cell_type": "code",
   "execution_count": 12,
   "id": "f5fff0e5",
   "metadata": {},
   "outputs": [],
   "source": [
    "#Load it later\n",
    "transformer = TfidfTransformer()\n",
    "\n",
    "# Testing phase\n",
    "tf1 = pickle.load(open(\"X_tfidf.pkl\", 'rb'))\n",
    "\n",
    "# Create new tfidfVectorizer with old vocabulary\n",
    "tf1_new = TfidfVectorizer(vocabulary = tf1)"
   ]
  },
  {
   "cell_type": "code",
   "execution_count": 16,
   "id": "2399e4fa",
   "metadata": {},
   "outputs": [],
   "source": [
    "test_sentence = [\" tforms. Competent build inspection of all stages and materials used. Full compliance with ISO 9001 procedures, and total quality focus throughout all direct / indirect stages of manufacturing process to achieve a quality product aligned to the customers specification / expectations. Effective and efficient value added organisation and control of all allocated operations. Full flexibility, including being training and training others to enable all manufacturing operations by all to be completed across the company. Compliance with health and safety standards, flexibility, and development of skills through the complete manufacturing process\"]\n",
    "test_sentence2 = [\"Guinness Care and Support are looking for versatile, flexible individuals who are comfortable working out in the community, \"]\n",
    "test_sentence_tfidf = tf1_new.fit_transform(test_sentence2)"
   ]
  },
  {
   "cell_type": "code",
   "execution_count": 17,
   "id": "ac6433eb",
   "metadata": {},
   "outputs": [
    {
     "data": {
      "text/plain": [
       "array(['Healthcare_Nursing'], dtype='<U18')"
      ]
     },
     "execution_count": 17,
     "metadata": {},
     "output_type": "execute_result"
    }
   ],
   "source": [
    "sentence_pred = lr_loaded.predict(test_sentence_tfidf)\n",
    "sentence_pred"
   ]
  },
  {
   "cell_type": "code",
   "execution_count": null,
   "id": "f8c40ee7",
   "metadata": {},
   "outputs": [],
   "source": []
  }
 ],
 "metadata": {
  "kernelspec": {
   "display_name": "Python 3 (ipykernel)",
   "language": "python",
   "name": "python3"
  },
  "language_info": {
   "codemirror_mode": {
    "name": "ipython",
    "version": 3
   },
   "file_extension": ".py",
   "mimetype": "text/x-python",
   "name": "python",
   "nbconvert_exporter": "python",
   "pygments_lexer": "ipython3",
   "version": "3.9.7"
  }
 },
 "nbformat": 4,
 "nbformat_minor": 5
}
